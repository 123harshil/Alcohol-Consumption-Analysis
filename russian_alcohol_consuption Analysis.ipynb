{
 "cells": [
  {
   "cell_type": "markdown",
   "id": "aa2108e4",
   "metadata": {},
   "source": [
    "#### Importing the packages"
   ]
  },
  {
   "cell_type": "code",
   "execution_count": 1,
   "id": "1bc04f0e",
   "metadata": {},
   "outputs": [],
   "source": [
    "import pandas as pd\n",
    "import matplotlib.pyplot as plt\n",
    "import seaborn as sns"
   ]
  },
  {
   "cell_type": "markdown",
   "id": "9c9c9489",
   "metadata": {},
   "source": [
    "#### Read the Data"
   ]
  },
  {
   "cell_type": "code",
   "execution_count": 2,
   "id": "10e872c1",
   "metadata": {
    "scrolled": true
   },
   "outputs": [
    {
     "data": {
      "text/html": [
       "<div>\n",
       "<style scoped>\n",
       "    .dataframe tbody tr th:only-of-type {\n",
       "        vertical-align: middle;\n",
       "    }\n",
       "\n",
       "    .dataframe tbody tr th {\n",
       "        vertical-align: top;\n",
       "    }\n",
       "\n",
       "    .dataframe thead th {\n",
       "        text-align: right;\n",
       "    }\n",
       "</style>\n",
       "<table border=\"1\" class=\"dataframe\">\n",
       "  <thead>\n",
       "    <tr style=\"text-align: right;\">\n",
       "      <th></th>\n",
       "      <th>year</th>\n",
       "      <th>region</th>\n",
       "      <th>wine</th>\n",
       "      <th>beer</th>\n",
       "      <th>vodka</th>\n",
       "      <th>champagne</th>\n",
       "      <th>brandy</th>\n",
       "    </tr>\n",
       "  </thead>\n",
       "  <tbody>\n",
       "    <tr>\n",
       "      <th>0</th>\n",
       "      <td>1998</td>\n",
       "      <td>Republic of Adygea</td>\n",
       "      <td>1.9</td>\n",
       "      <td>8.8</td>\n",
       "      <td>3.4</td>\n",
       "      <td>0.3</td>\n",
       "      <td>0.1</td>\n",
       "    </tr>\n",
       "    <tr>\n",
       "      <th>1</th>\n",
       "      <td>1998</td>\n",
       "      <td>Altai Krai</td>\n",
       "      <td>3.3</td>\n",
       "      <td>19.2</td>\n",
       "      <td>11.3</td>\n",
       "      <td>1.1</td>\n",
       "      <td>0.1</td>\n",
       "    </tr>\n",
       "    <tr>\n",
       "      <th>2</th>\n",
       "      <td>1998</td>\n",
       "      <td>Amur Oblast</td>\n",
       "      <td>2.1</td>\n",
       "      <td>21.2</td>\n",
       "      <td>17.3</td>\n",
       "      <td>0.7</td>\n",
       "      <td>0.4</td>\n",
       "    </tr>\n",
       "    <tr>\n",
       "      <th>3</th>\n",
       "      <td>1998</td>\n",
       "      <td>Arkhangelsk Oblast</td>\n",
       "      <td>4.3</td>\n",
       "      <td>10.6</td>\n",
       "      <td>11.7</td>\n",
       "      <td>0.4</td>\n",
       "      <td>0.3</td>\n",
       "    </tr>\n",
       "    <tr>\n",
       "      <th>4</th>\n",
       "      <td>1998</td>\n",
       "      <td>Astrakhan Oblast</td>\n",
       "      <td>2.9</td>\n",
       "      <td>18.0</td>\n",
       "      <td>9.5</td>\n",
       "      <td>0.8</td>\n",
       "      <td>0.2</td>\n",
       "    </tr>\n",
       "    <tr>\n",
       "      <th>...</th>\n",
       "      <td>...</td>\n",
       "      <td>...</td>\n",
       "      <td>...</td>\n",
       "      <td>...</td>\n",
       "      <td>...</td>\n",
       "      <td>...</td>\n",
       "      <td>...</td>\n",
       "    </tr>\n",
       "    <tr>\n",
       "      <th>1610</th>\n",
       "      <td>2016</td>\n",
       "      <td>Chuvash Republic</td>\n",
       "      <td>5.0</td>\n",
       "      <td>42.3</td>\n",
       "      <td>7.7</td>\n",
       "      <td>0.7</td>\n",
       "      <td>0.4</td>\n",
       "    </tr>\n",
       "    <tr>\n",
       "      <th>1611</th>\n",
       "      <td>2016</td>\n",
       "      <td>Chukotka Autonomous Okrug</td>\n",
       "      <td>3.9</td>\n",
       "      <td>34.0</td>\n",
       "      <td>11.6</td>\n",
       "      <td>1.8</td>\n",
       "      <td>1.1</td>\n",
       "    </tr>\n",
       "    <tr>\n",
       "      <th>1612</th>\n",
       "      <td>2016</td>\n",
       "      <td>Sakha (Yakutia) Republic</td>\n",
       "      <td>4.3</td>\n",
       "      <td>56.1</td>\n",
       "      <td>8.2</td>\n",
       "      <td>1.8</td>\n",
       "      <td>0.5</td>\n",
       "    </tr>\n",
       "    <tr>\n",
       "      <th>1613</th>\n",
       "      <td>2016</td>\n",
       "      <td>Yamalo-Nenets Autonomous Okrug</td>\n",
       "      <td>4.5</td>\n",
       "      <td>75.8</td>\n",
       "      <td>8.2</td>\n",
       "      <td>1.7</td>\n",
       "      <td>1.3</td>\n",
       "    </tr>\n",
       "    <tr>\n",
       "      <th>1614</th>\n",
       "      <td>2016</td>\n",
       "      <td>Yaroslavl Oblast</td>\n",
       "      <td>10.2</td>\n",
       "      <td>38.0</td>\n",
       "      <td>8.9</td>\n",
       "      <td>1.4</td>\n",
       "      <td>1.0</td>\n",
       "    </tr>\n",
       "  </tbody>\n",
       "</table>\n",
       "<p>1615 rows × 7 columns</p>\n",
       "</div>"
      ],
      "text/plain": [
       "      year                          region  wine  beer  vodka  champagne  \\\n",
       "0     1998              Republic of Adygea   1.9   8.8    3.4        0.3   \n",
       "1     1998                      Altai Krai   3.3  19.2   11.3        1.1   \n",
       "2     1998                     Amur Oblast   2.1  21.2   17.3        0.7   \n",
       "3     1998              Arkhangelsk Oblast   4.3  10.6   11.7        0.4   \n",
       "4     1998                Astrakhan Oblast   2.9  18.0    9.5        0.8   \n",
       "...    ...                             ...   ...   ...    ...        ...   \n",
       "1610  2016                Chuvash Republic   5.0  42.3    7.7        0.7   \n",
       "1611  2016       Chukotka Autonomous Okrug   3.9  34.0   11.6        1.8   \n",
       "1612  2016        Sakha (Yakutia) Republic   4.3  56.1    8.2        1.8   \n",
       "1613  2016  Yamalo-Nenets Autonomous Okrug   4.5  75.8    8.2        1.7   \n",
       "1614  2016                Yaroslavl Oblast  10.2  38.0    8.9        1.4   \n",
       "\n",
       "      brandy  \n",
       "0        0.1  \n",
       "1        0.1  \n",
       "2        0.4  \n",
       "3        0.3  \n",
       "4        0.2  \n",
       "...      ...  \n",
       "1610     0.4  \n",
       "1611     1.1  \n",
       "1612     0.5  \n",
       "1613     1.3  \n",
       "1614     1.0  \n",
       "\n",
       "[1615 rows x 7 columns]"
      ]
     },
     "execution_count": 2,
     "metadata": {},
     "output_type": "execute_result"
    }
   ],
   "source": [
    "data_full  = pd.read_csv(\"russian_alcohol_consumption.csv\")\n",
    "data_full\n"
   ]
  },
  {
   "cell_type": "markdown",
   "id": "843749c0",
   "metadata": {},
   "source": [
    "#### Data Information"
   ]
  },
  {
   "cell_type": "code",
   "execution_count": 3,
   "id": "3acbfe50",
   "metadata": {},
   "outputs": [
    {
     "name": "stdout",
     "output_type": "stream",
     "text": [
      "<class 'pandas.core.frame.DataFrame'>\n",
      "RangeIndex: 1615 entries, 0 to 1614\n",
      "Data columns (total 7 columns):\n",
      " #   Column     Non-Null Count  Dtype  \n",
      "---  ------     --------------  -----  \n",
      " 0   year       1615 non-null   int64  \n",
      " 1   region     1615 non-null   object \n",
      " 2   wine       1552 non-null   float64\n",
      " 3   beer       1557 non-null   float64\n",
      " 4   vodka      1554 non-null   float64\n",
      " 5   champagne  1552 non-null   float64\n",
      " 6   brandy     1549 non-null   float64\n",
      "dtypes: float64(5), int64(1), object(1)\n",
      "memory usage: 88.4+ KB\n"
     ]
    }
   ],
   "source": [
    "data_full.info()\n"
   ]
  },
  {
   "cell_type": "markdown",
   "id": "2acdc7f3",
   "metadata": {},
   "source": [
    "#### Data Describe"
   ]
  },
  {
   "cell_type": "code",
   "execution_count": 5,
   "id": "241d8b56",
   "metadata": {},
   "outputs": [
    {
     "data": {
      "text/html": [
       "<div>\n",
       "<style scoped>\n",
       "    .dataframe tbody tr th:only-of-type {\n",
       "        vertical-align: middle;\n",
       "    }\n",
       "\n",
       "    .dataframe tbody tr th {\n",
       "        vertical-align: top;\n",
       "    }\n",
       "\n",
       "    .dataframe thead th {\n",
       "        text-align: right;\n",
       "    }\n",
       "</style>\n",
       "<table border=\"1\" class=\"dataframe\">\n",
       "  <thead>\n",
       "    <tr style=\"text-align: right;\">\n",
       "      <th></th>\n",
       "      <th>year</th>\n",
       "      <th>wine</th>\n",
       "      <th>beer</th>\n",
       "      <th>vodka</th>\n",
       "      <th>champagne</th>\n",
       "      <th>brandy</th>\n",
       "    </tr>\n",
       "  </thead>\n",
       "  <tbody>\n",
       "    <tr>\n",
       "      <th>count</th>\n",
       "      <td>1615.000000</td>\n",
       "      <td>1552.000000</td>\n",
       "      <td>1557.000000</td>\n",
       "      <td>1554.000000</td>\n",
       "      <td>1552.000000</td>\n",
       "      <td>1549.000000</td>\n",
       "    </tr>\n",
       "    <tr>\n",
       "      <th>mean</th>\n",
       "      <td>2007.000000</td>\n",
       "      <td>5.628144</td>\n",
       "      <td>51.260148</td>\n",
       "      <td>11.818694</td>\n",
       "      <td>1.313177</td>\n",
       "      <td>0.526998</td>\n",
       "    </tr>\n",
       "    <tr>\n",
       "      <th>std</th>\n",
       "      <td>5.478922</td>\n",
       "      <td>2.813208</td>\n",
       "      <td>25.372821</td>\n",
       "      <td>5.128806</td>\n",
       "      <td>0.797956</td>\n",
       "      <td>0.400201</td>\n",
       "    </tr>\n",
       "    <tr>\n",
       "      <th>min</th>\n",
       "      <td>1998.000000</td>\n",
       "      <td>0.100000</td>\n",
       "      <td>0.400000</td>\n",
       "      <td>0.050000</td>\n",
       "      <td>0.100000</td>\n",
       "      <td>0.000000</td>\n",
       "    </tr>\n",
       "    <tr>\n",
       "      <th>25%</th>\n",
       "      <td>2002.000000</td>\n",
       "      <td>3.575000</td>\n",
       "      <td>32.400000</td>\n",
       "      <td>8.300000</td>\n",
       "      <td>0.800000</td>\n",
       "      <td>0.200000</td>\n",
       "    </tr>\n",
       "    <tr>\n",
       "      <th>50%</th>\n",
       "      <td>2007.000000</td>\n",
       "      <td>5.400000</td>\n",
       "      <td>49.970000</td>\n",
       "      <td>11.500000</td>\n",
       "      <td>1.200000</td>\n",
       "      <td>0.400000</td>\n",
       "    </tr>\n",
       "    <tr>\n",
       "      <th>75%</th>\n",
       "      <td>2012.000000</td>\n",
       "      <td>7.377500</td>\n",
       "      <td>67.400000</td>\n",
       "      <td>15.000000</td>\n",
       "      <td>1.665000</td>\n",
       "      <td>0.700000</td>\n",
       "    </tr>\n",
       "    <tr>\n",
       "      <th>max</th>\n",
       "      <td>2016.000000</td>\n",
       "      <td>18.100000</td>\n",
       "      <td>207.300000</td>\n",
       "      <td>40.600000</td>\n",
       "      <td>5.560000</td>\n",
       "      <td>2.300000</td>\n",
       "    </tr>\n",
       "  </tbody>\n",
       "</table>\n",
       "</div>"
      ],
      "text/plain": [
       "              year         wine         beer        vodka    champagne  \\\n",
       "count  1615.000000  1552.000000  1557.000000  1554.000000  1552.000000   \n",
       "mean   2007.000000     5.628144    51.260148    11.818694     1.313177   \n",
       "std       5.478922     2.813208    25.372821     5.128806     0.797956   \n",
       "min    1998.000000     0.100000     0.400000     0.050000     0.100000   \n",
       "25%    2002.000000     3.575000    32.400000     8.300000     0.800000   \n",
       "50%    2007.000000     5.400000    49.970000    11.500000     1.200000   \n",
       "75%    2012.000000     7.377500    67.400000    15.000000     1.665000   \n",
       "max    2016.000000    18.100000   207.300000    40.600000     5.560000   \n",
       "\n",
       "            brandy  \n",
       "count  1549.000000  \n",
       "mean      0.526998  \n",
       "std       0.400201  \n",
       "min       0.000000  \n",
       "25%       0.200000  \n",
       "50%       0.400000  \n",
       "75%       0.700000  \n",
       "max       2.300000  "
      ]
     },
     "execution_count": 5,
     "metadata": {},
     "output_type": "execute_result"
    }
   ],
   "source": [
    "data_full.describe()"
   ]
  },
  {
   "cell_type": "markdown",
   "id": "6e061caf",
   "metadata": {},
   "source": [
    "#### Data Cleaning"
   ]
  },
  {
   "cell_type": "code",
   "execution_count": 7,
   "id": "cfa2d641",
   "metadata": {},
   "outputs": [
    {
     "name": "stdout",
     "output_type": "stream",
     "text": [
      "<class 'pandas.core.frame.DataFrame'>\n",
      "Int64Index: 1549 entries, 0 to 1614\n",
      "Data columns (total 7 columns):\n",
      " #   Column     Non-Null Count  Dtype         \n",
      "---  ------     --------------  -----         \n",
      " 0   year       1549 non-null   datetime64[ns]\n",
      " 1   region     1549 non-null   object        \n",
      " 2   wine       1549 non-null   float64       \n",
      " 3   beer       1549 non-null   float64       \n",
      " 4   vodka      1549 non-null   float64       \n",
      " 5   champagne  1549 non-null   float64       \n",
      " 6   brandy     1549 non-null   float64       \n",
      "dtypes: datetime64[ns](1), float64(5), object(1)\n",
      "memory usage: 96.8+ KB\n"
     ]
    }
   ],
   "source": [
    "data_full.dropna(inplace=True)\n",
    "data_full[\"year\"]=pd.to_datetime(data_full[\"year\"])\n",
    "data_full.info()"
   ]
  },
  {
   "cell_type": "code",
   "execution_count": 8,
   "id": "e5ceb1b3",
   "metadata": {},
   "outputs": [
    {
     "data": {
      "text/html": [
       "<div>\n",
       "<style scoped>\n",
       "    .dataframe tbody tr th:only-of-type {\n",
       "        vertical-align: middle;\n",
       "    }\n",
       "\n",
       "    .dataframe tbody tr th {\n",
       "        vertical-align: top;\n",
       "    }\n",
       "\n",
       "    .dataframe thead th {\n",
       "        text-align: right;\n",
       "    }\n",
       "</style>\n",
       "<table border=\"1\" class=\"dataframe\">\n",
       "  <thead>\n",
       "    <tr style=\"text-align: right;\">\n",
       "      <th></th>\n",
       "      <th>year</th>\n",
       "      <th>region</th>\n",
       "      <th>wine</th>\n",
       "      <th>beer</th>\n",
       "      <th>vodka</th>\n",
       "      <th>champagne</th>\n",
       "      <th>brandy</th>\n",
       "    </tr>\n",
       "  </thead>\n",
       "  <tbody>\n",
       "    <tr>\n",
       "      <th>0</th>\n",
       "      <td>1970-01-01 00:00:00.000001998</td>\n",
       "      <td>Republic of Adygea</td>\n",
       "      <td>1.9</td>\n",
       "      <td>8.8</td>\n",
       "      <td>3.4</td>\n",
       "      <td>0.3</td>\n",
       "      <td>0.1</td>\n",
       "    </tr>\n",
       "    <tr>\n",
       "      <th>1</th>\n",
       "      <td>1970-01-01 00:00:00.000001998</td>\n",
       "      <td>Altai Krai</td>\n",
       "      <td>3.3</td>\n",
       "      <td>19.2</td>\n",
       "      <td>11.3</td>\n",
       "      <td>1.1</td>\n",
       "      <td>0.1</td>\n",
       "    </tr>\n",
       "    <tr>\n",
       "      <th>2</th>\n",
       "      <td>1970-01-01 00:00:00.000001998</td>\n",
       "      <td>Amur Oblast</td>\n",
       "      <td>2.1</td>\n",
       "      <td>21.2</td>\n",
       "      <td>17.3</td>\n",
       "      <td>0.7</td>\n",
       "      <td>0.4</td>\n",
       "    </tr>\n",
       "    <tr>\n",
       "      <th>3</th>\n",
       "      <td>1970-01-01 00:00:00.000001998</td>\n",
       "      <td>Arkhangelsk Oblast</td>\n",
       "      <td>4.3</td>\n",
       "      <td>10.6</td>\n",
       "      <td>11.7</td>\n",
       "      <td>0.4</td>\n",
       "      <td>0.3</td>\n",
       "    </tr>\n",
       "    <tr>\n",
       "      <th>4</th>\n",
       "      <td>1970-01-01 00:00:00.000001998</td>\n",
       "      <td>Astrakhan Oblast</td>\n",
       "      <td>2.9</td>\n",
       "      <td>18.0</td>\n",
       "      <td>9.5</td>\n",
       "      <td>0.8</td>\n",
       "      <td>0.2</td>\n",
       "    </tr>\n",
       "    <tr>\n",
       "      <th>...</th>\n",
       "      <td>...</td>\n",
       "      <td>...</td>\n",
       "      <td>...</td>\n",
       "      <td>...</td>\n",
       "      <td>...</td>\n",
       "      <td>...</td>\n",
       "      <td>...</td>\n",
       "    </tr>\n",
       "    <tr>\n",
       "      <th>1610</th>\n",
       "      <td>1970-01-01 00:00:00.000002016</td>\n",
       "      <td>Chuvash Republic</td>\n",
       "      <td>5.0</td>\n",
       "      <td>42.3</td>\n",
       "      <td>7.7</td>\n",
       "      <td>0.7</td>\n",
       "      <td>0.4</td>\n",
       "    </tr>\n",
       "    <tr>\n",
       "      <th>1611</th>\n",
       "      <td>1970-01-01 00:00:00.000002016</td>\n",
       "      <td>Chukotka Autonomous Okrug</td>\n",
       "      <td>3.9</td>\n",
       "      <td>34.0</td>\n",
       "      <td>11.6</td>\n",
       "      <td>1.8</td>\n",
       "      <td>1.1</td>\n",
       "    </tr>\n",
       "    <tr>\n",
       "      <th>1612</th>\n",
       "      <td>1970-01-01 00:00:00.000002016</td>\n",
       "      <td>Sakha (Yakutia) Republic</td>\n",
       "      <td>4.3</td>\n",
       "      <td>56.1</td>\n",
       "      <td>8.2</td>\n",
       "      <td>1.8</td>\n",
       "      <td>0.5</td>\n",
       "    </tr>\n",
       "    <tr>\n",
       "      <th>1613</th>\n",
       "      <td>1970-01-01 00:00:00.000002016</td>\n",
       "      <td>Yamalo-Nenets Autonomous Okrug</td>\n",
       "      <td>4.5</td>\n",
       "      <td>75.8</td>\n",
       "      <td>8.2</td>\n",
       "      <td>1.7</td>\n",
       "      <td>1.3</td>\n",
       "    </tr>\n",
       "    <tr>\n",
       "      <th>1614</th>\n",
       "      <td>1970-01-01 00:00:00.000002016</td>\n",
       "      <td>Yaroslavl Oblast</td>\n",
       "      <td>10.2</td>\n",
       "      <td>38.0</td>\n",
       "      <td>8.9</td>\n",
       "      <td>1.4</td>\n",
       "      <td>1.0</td>\n",
       "    </tr>\n",
       "  </tbody>\n",
       "</table>\n",
       "<p>1549 rows × 7 columns</p>\n",
       "</div>"
      ],
      "text/plain": [
       "                              year                          region  wine  \\\n",
       "0    1970-01-01 00:00:00.000001998              Republic of Adygea   1.9   \n",
       "1    1970-01-01 00:00:00.000001998                      Altai Krai   3.3   \n",
       "2    1970-01-01 00:00:00.000001998                     Amur Oblast   2.1   \n",
       "3    1970-01-01 00:00:00.000001998              Arkhangelsk Oblast   4.3   \n",
       "4    1970-01-01 00:00:00.000001998                Astrakhan Oblast   2.9   \n",
       "...                            ...                             ...   ...   \n",
       "1610 1970-01-01 00:00:00.000002016                Chuvash Republic   5.0   \n",
       "1611 1970-01-01 00:00:00.000002016       Chukotka Autonomous Okrug   3.9   \n",
       "1612 1970-01-01 00:00:00.000002016        Sakha (Yakutia) Republic   4.3   \n",
       "1613 1970-01-01 00:00:00.000002016  Yamalo-Nenets Autonomous Okrug   4.5   \n",
       "1614 1970-01-01 00:00:00.000002016                Yaroslavl Oblast  10.2   \n",
       "\n",
       "      beer  vodka  champagne  brandy  \n",
       "0      8.8    3.4        0.3     0.1  \n",
       "1     19.2   11.3        1.1     0.1  \n",
       "2     21.2   17.3        0.7     0.4  \n",
       "3     10.6   11.7        0.4     0.3  \n",
       "4     18.0    9.5        0.8     0.2  \n",
       "...    ...    ...        ...     ...  \n",
       "1610  42.3    7.7        0.7     0.4  \n",
       "1611  34.0   11.6        1.8     1.1  \n",
       "1612  56.1    8.2        1.8     0.5  \n",
       "1613  75.8    8.2        1.7     1.3  \n",
       "1614  38.0    8.9        1.4     1.0  \n",
       "\n",
       "[1549 rows x 7 columns]"
      ]
     },
     "execution_count": 8,
     "metadata": {},
     "output_type": "execute_result"
    }
   ],
   "source": [
    "data_full\n"
   ]
  },
  {
   "cell_type": "markdown",
   "id": "05cf1a60",
   "metadata": {},
   "source": [
    "#### Analysis"
   ]
  },
  {
   "cell_type": "code",
   "execution_count": 10,
   "id": "9cccf998",
   "metadata": {},
   "outputs": [
    {
     "data": {
      "text/plain": [
       "<AxesSubplot:>"
      ]
     },
     "execution_count": 10,
     "metadata": {},
     "output_type": "execute_result"
    },
    {
     "data": {
      "image/png": "[encoded data removed]",
      "text/plain": [
       "<Figure size 432x288 with 2 Axes>"
      ]
     },
     "metadata": {
      "needs_background": "light"
     },
     "output_type": "display_data"
    }
   ],
   "source": [
    "sns.heatmap(data_full.corr(), annot=True)"
   ]
  },
  {
   "cell_type": "raw",
   "id": "8c8412e1",
   "metadata": {},
   "source": [
    "### After see there is corrlation between all prodactes\n",
    "then I decided to find the first or top 20_region in every product then choose the regions that common with products"
   ]
  },
  {
   "cell_type": "markdown",
   "id": "72fcd30b",
   "metadata": {},
   "source": [
    "#### Frist_product: Wine"
   ]
  },
  {
   "cell_type": "code",
   "execution_count": 12,
   "id": "fbc2e540",
   "metadata": {},
   "outputs": [
    {
     "data": {
      "image/png": "[encoded data removed]",
      "text/plain": [
       "<Figure size 360x360 with 1 Axes>"
      ]
     },
     "metadata": {
      "needs_background": "light"
     },
     "output_type": "display_data"
    },
    {
     "data": {
      "image/png": "[encoded data removed]",
      "text/plain": [
       "<Figure size 360x360 with 1 Axes>"
      ]
     },
     "metadata": {
      "needs_background": "light"
     },
     "output_type": "display_data"
    }
   ],
   "source": [
    "sns.displot(data_full[\"wine\"])\n",
    "sns.displot(data_full[\"wine\"], kind=\"ecdf\")\n",
    "plt.show()"
   ]
  },
  {
   "cell_type": "code",
   "execution_count": 13,
   "id": "cfbb7eb4",
   "metadata": {},
   "outputs": [
    {
     "data": {
      "text/html": [
       "<div>\n",
       "<style scoped>\n",
       "    .dataframe tbody tr th:only-of-type {\n",
       "        vertical-align: middle;\n",
       "    }\n",
       "\n",
       "    .dataframe tbody tr th {\n",
       "        vertical-align: top;\n",
       "    }\n",
       "\n",
       "    .dataframe thead th {\n",
       "        text-align: right;\n",
       "    }\n",
       "</style>\n",
       "<table border=\"1\" class=\"dataframe\">\n",
       "  <thead>\n",
       "    <tr style=\"text-align: right;\">\n",
       "      <th></th>\n",
       "      <th>region</th>\n",
       "      <th>wine</th>\n",
       "    </tr>\n",
       "  </thead>\n",
       "  <tbody>\n",
       "    <tr>\n",
       "      <th>0</th>\n",
       "      <td>Republic of Karelia</td>\n",
       "      <td>204.48</td>\n",
       "    </tr>\n",
       "    <tr>\n",
       "      <th>1</th>\n",
       "      <td>Pskov Oblast</td>\n",
       "      <td>195.85</td>\n",
       "    </tr>\n",
       "    <tr>\n",
       "      <th>2</th>\n",
       "      <td>Vologda Oblast</td>\n",
       "      <td>177.24</td>\n",
       "    </tr>\n",
       "    <tr>\n",
       "      <th>3</th>\n",
       "      <td>Komi Republic</td>\n",
       "      <td>175.25</td>\n",
       "    </tr>\n",
       "    <tr>\n",
       "      <th>4</th>\n",
       "      <td>Novgorod Oblast</td>\n",
       "      <td>174.51</td>\n",
       "    </tr>\n",
       "    <tr>\n",
       "      <th>...</th>\n",
       "      <td>...</td>\n",
       "      <td>...</td>\n",
       "    </tr>\n",
       "    <tr>\n",
       "      <th>79</th>\n",
       "      <td>Karachay-Cherkess Republic</td>\n",
       "      <td>40.26</td>\n",
       "    </tr>\n",
       "    <tr>\n",
       "      <th>80</th>\n",
       "      <td>Republic of North Ossetia-Alania</td>\n",
       "      <td>33.12</td>\n",
       "    </tr>\n",
       "    <tr>\n",
       "      <th>81</th>\n",
       "      <td>Republic of Ingushetia</td>\n",
       "      <td>29.80</td>\n",
       "    </tr>\n",
       "    <tr>\n",
       "      <th>82</th>\n",
       "      <td>Sevastopol</td>\n",
       "      <td>16.00</td>\n",
       "    </tr>\n",
       "    <tr>\n",
       "      <th>83</th>\n",
       "      <td>Republic of Crimea</td>\n",
       "      <td>12.10</td>\n",
       "    </tr>\n",
       "  </tbody>\n",
       "</table>\n",
       "<p>84 rows × 2 columns</p>\n",
       "</div>"
      ],
      "text/plain": [
       "                              region    wine\n",
       "0                Republic of Karelia  204.48\n",
       "1                       Pskov Oblast  195.85\n",
       "2                     Vologda Oblast  177.24\n",
       "3                      Komi Republic  175.25\n",
       "4                    Novgorod Oblast  174.51\n",
       "..                               ...     ...\n",
       "79        Karachay-Cherkess Republic   40.26\n",
       "80  Republic of North Ossetia-Alania   33.12\n",
       "81            Republic of Ingushetia   29.80\n",
       "82                        Sevastopol   16.00\n",
       "83                Republic of Crimea   12.10\n",
       "\n",
       "[84 rows x 2 columns]"
      ]
     },
     "execution_count": 13,
     "metadata": {},
     "output_type": "execute_result"
    }
   ],
   "source": [
    "data_wine = data_full.groupby([\"region\"])[\"wine\"].sum().sort_values(ascending=False).reset_index()\n",
    "data_wine"
   ]
  },
  {
   "cell_type": "markdown",
   "id": "18d1b530",
   "metadata": {},
   "source": [
    "#### The top 20 for wine region"
   ]
  },
  {
   "cell_type": "code",
   "execution_count": 15,
   "id": "84467d56",
   "metadata": {},
   "outputs": [
    {
     "data": {
      "text/plain": [
       "0         Republic of Karelia\n",
       "1                Pskov Oblast\n",
       "2              Vologda Oblast\n",
       "3               Komi Republic\n",
       "4             Novgorod Oblast\n",
       "5     Nenets Autonomous Okrug\n",
       "6          Arkhangelsk Oblast\n",
       "7             Murmansk Oblast\n",
       "8            Leningrad Oblast\n",
       "9                Kirov Oblast\n",
       "10            Smolensk Oblast\n",
       "11         Kaliningrad Oblast\n",
       "12          Sverdlovsk Oblast\n",
       "13                     Moscow\n",
       "14             Kamchatka Krai\n",
       "15             Ivanovo Oblast\n",
       "16             Krasnodar Krai\n",
       "17           Yaroslavl Oblast\n",
       "18                Tver Oblast\n",
       "19           Saint Petersburg\n",
       "Name: region, dtype: object"
      ]
     },
     "execution_count": 15,
     "metadata": {},
     "output_type": "execute_result"
    }
   ],
   "source": [
    "data_wine_region = data_wine[\"region\"].head(20)\n",
    "data_wine_region"
   ]
  },
  {
   "cell_type": "markdown",
   "id": "4ed6d292",
   "metadata": {},
   "source": [
    "#### Second product: Beer\n"
   ]
  },
  {
   "cell_type": "code",
   "execution_count": 17,
   "id": "b7231a24",
   "metadata": {},
   "outputs": [
    {
     "data": {
      "image/png": "[encoded data removed]",
      "text/plain": [
       "<Figure size 360x360 with 1 Axes>"
      ]
     },
     "metadata": {
      "needs_background": "light"
     },
     "output_type": "display_data"
    },
    {
     "data": {
      "image/png": "[encoded data removed]",
      "text/plain": [
       "<Figure size 360x360 with 1 Axes>"
      ]
     },
     "metadata": {
      "needs_background": "light"
     },
     "output_type": "display_data"
    }
   ],
   "source": [
    "sns.displot(data_full[\"beer\"])\n",
    "sns.displot(data_full[\"beer\"],kind=\"ecdf\")\n",
    "plt.show()"
   ]
  },
  {
   "cell_type": "code",
   "execution_count": 18,
   "id": "322d8877",
   "metadata": {},
   "outputs": [
    {
     "data": {
      "text/html": [
       "<div>\n",
       "<style scoped>\n",
       "    .dataframe tbody tr th:only-of-type {\n",
       "        vertical-align: middle;\n",
       "    }\n",
       "\n",
       "    .dataframe tbody tr th {\n",
       "        vertical-align: top;\n",
       "    }\n",
       "\n",
       "    .dataframe thead th {\n",
       "        text-align: right;\n",
       "    }\n",
       "</style>\n",
       "<table border=\"1\" class=\"dataframe\">\n",
       "  <thead>\n",
       "    <tr style=\"text-align: right;\">\n",
       "      <th></th>\n",
       "      <th>region</th>\n",
       "      <th>beer</th>\n",
       "    </tr>\n",
       "  </thead>\n",
       "  <tbody>\n",
       "    <tr>\n",
       "      <th>0</th>\n",
       "      <td>Saint Petersburg</td>\n",
       "      <td>1603.13</td>\n",
       "    </tr>\n",
       "    <tr>\n",
       "      <th>1</th>\n",
       "      <td>Moscow</td>\n",
       "      <td>1590.08</td>\n",
       "    </tr>\n",
       "    <tr>\n",
       "      <th>2</th>\n",
       "      <td>Yamalo-Nenets Autonomous Okrug</td>\n",
       "      <td>1522.62</td>\n",
       "    </tr>\n",
       "    <tr>\n",
       "      <th>3</th>\n",
       "      <td>Tyumen Oblast</td>\n",
       "      <td>1462.05</td>\n",
       "    </tr>\n",
       "    <tr>\n",
       "      <th>4</th>\n",
       "      <td>Omsk Oblast</td>\n",
       "      <td>1456.23</td>\n",
       "    </tr>\n",
       "    <tr>\n",
       "      <th>...</th>\n",
       "      <td>...</td>\n",
       "      <td>...</td>\n",
       "    </tr>\n",
       "    <tr>\n",
       "      <th>79</th>\n",
       "      <td>Chukotka Autonomous Okrug</td>\n",
       "      <td>292.91</td>\n",
       "    </tr>\n",
       "    <tr>\n",
       "      <th>80</th>\n",
       "      <td>Republic of Crimea</td>\n",
       "      <td>101.10</td>\n",
       "    </tr>\n",
       "    <tr>\n",
       "      <th>81</th>\n",
       "      <td>Republic of Dagestan</td>\n",
       "      <td>88.24</td>\n",
       "    </tr>\n",
       "    <tr>\n",
       "      <th>82</th>\n",
       "      <td>Sevastopol</td>\n",
       "      <td>64.10</td>\n",
       "    </tr>\n",
       "    <tr>\n",
       "      <th>83</th>\n",
       "      <td>Republic of Ingushetia</td>\n",
       "      <td>34.50</td>\n",
       "    </tr>\n",
       "  </tbody>\n",
       "</table>\n",
       "<p>84 rows × 2 columns</p>\n",
       "</div>"
      ],
      "text/plain": [
       "                            region     beer\n",
       "0                 Saint Petersburg  1603.13\n",
       "1                           Moscow  1590.08\n",
       "2   Yamalo-Nenets Autonomous Okrug  1522.62\n",
       "3                    Tyumen Oblast  1462.05\n",
       "4                      Omsk Oblast  1456.23\n",
       "..                             ...      ...\n",
       "79       Chukotka Autonomous Okrug   292.91\n",
       "80              Republic of Crimea   101.10\n",
       "81            Republic of Dagestan    88.24\n",
       "82                      Sevastopol    64.10\n",
       "83          Republic of Ingushetia    34.50\n",
       "\n",
       "[84 rows x 2 columns]"
      ]
     },
     "execution_count": 18,
     "metadata": {},
     "output_type": "execute_result"
    }
   ],
   "source": [
    "data_beer = data_full.groupby([\"region\"])[\"beer\"].sum().sort_values(ascending=False).reset_index()\n",
    "data_beer"
   ]
  },
  {
   "cell_type": "markdown",
   "id": "a31627b6",
   "metadata": {},
   "source": [
    "#### The top 20 for Beer region"
   ]
  },
  {
   "cell_type": "code",
   "execution_count": 20,
   "id": "6f7a15fb",
   "metadata": {},
   "outputs": [
    {
     "data": {
      "text/plain": [
       "0                          Saint Petersburg\n",
       "1                                    Moscow\n",
       "2            Yamalo-Nenets Autonomous Okrug\n",
       "3                             Tyumen Oblast\n",
       "4                               Omsk Oblast\n",
       "5                        Chelyabinsk Oblast\n",
       "6     Khanty–Mansi Autonomous Okrug – Yugra\n",
       "7                            Ivanovo Oblast\n",
       "8                         Sverdlovsk Oblast\n",
       "9                           Khabarovsk Krai\n",
       "10                         Zabaykalsky Krai\n",
       "11                           Vologda Oblast\n",
       "12                            Komi Republic\n",
       "13                    Republic of Khakassia\n",
       "14                       Novosibirsk Oblast\n",
       "15                         Krasnoyarsk Krai\n",
       "16                                Perm Krai\n",
       "17                         Yaroslavl Oblast\n",
       "18                          Smolensk Oblast\n",
       "19                            Moscow Oblast\n",
       "Name: region, dtype: object"
      ]
     },
     "execution_count": 20,
     "metadata": {},
     "output_type": "execute_result"
    }
   ],
   "source": [
    "data_beer_region = data_beer[\"region\"].head(20)\n",
    "data_beer_region"
   ]
  },
  {
   "cell_type": "markdown",
   "id": "8e087bf6",
   "metadata": {},
   "source": [
    "#### Third product: Vodka"
   ]
  },
  {
   "cell_type": "code",
   "execution_count": 22,
   "id": "ff40f0fc",
   "metadata": {},
   "outputs": [
    {
     "data": {
      "image/png": "[encoded data removed]",
      "text/plain": [
       "<Figure size 360x360 with 1 Axes>"
      ]
     },
     "metadata": {
      "needs_background": "light"
     },
     "output_type": "display_data"
    },
    {
     "data": {
      "image/png": "[encoded data removed]",
      "text/plain": [
       "<Figure size 360x360 with 1 Axes>"
      ]
     },
     "metadata": {
      "needs_background": "light"
     },
     "output_type": "display_data"
    }
   ],
   "source": [
    "sns.displot(data_full[\"vodka\"])\n",
    "sns.displot(data_full[\"vodka\"],kind=\"ecdf\")\n",
    "plt.show()"
   ]
  },
  {
   "cell_type": "code",
   "execution_count": 23,
   "id": "aeddea5d",
   "metadata": {},
   "outputs": [
    {
     "data": {
      "text/html": [
       "<div>\n",
       "<style scoped>\n",
       "    .dataframe tbody tr th:only-of-type {\n",
       "        vertical-align: middle;\n",
       "    }\n",
       "\n",
       "    .dataframe tbody tr th {\n",
       "        vertical-align: top;\n",
       "    }\n",
       "\n",
       "    .dataframe thead th {\n",
       "        text-align: right;\n",
       "    }\n",
       "</style>\n",
       "<table border=\"1\" class=\"dataframe\">\n",
       "  <thead>\n",
       "    <tr style=\"text-align: right;\">\n",
       "      <th></th>\n",
       "      <th>region</th>\n",
       "      <th>vodka</th>\n",
       "    </tr>\n",
       "  </thead>\n",
       "  <tbody>\n",
       "    <tr>\n",
       "      <th>0</th>\n",
       "      <td>Komi Republic</td>\n",
       "      <td>392.43</td>\n",
       "    </tr>\n",
       "    <tr>\n",
       "      <th>1</th>\n",
       "      <td>Kamchatka Krai</td>\n",
       "      <td>374.53</td>\n",
       "    </tr>\n",
       "    <tr>\n",
       "      <th>2</th>\n",
       "      <td>Moscow</td>\n",
       "      <td>361.42</td>\n",
       "    </tr>\n",
       "    <tr>\n",
       "      <th>3</th>\n",
       "      <td>Magadan Oblast</td>\n",
       "      <td>355.93</td>\n",
       "    </tr>\n",
       "    <tr>\n",
       "      <th>4</th>\n",
       "      <td>Sakhalin Oblast</td>\n",
       "      <td>345.41</td>\n",
       "    </tr>\n",
       "    <tr>\n",
       "      <th>...</th>\n",
       "      <td>...</td>\n",
       "      <td>...</td>\n",
       "    </tr>\n",
       "    <tr>\n",
       "      <th>79</th>\n",
       "      <td>Rostov Oblast</td>\n",
       "      <td>115.77</td>\n",
       "    </tr>\n",
       "    <tr>\n",
       "      <th>80</th>\n",
       "      <td>Republic of North Ossetia-Alania</td>\n",
       "      <td>93.05</td>\n",
       "    </tr>\n",
       "    <tr>\n",
       "      <th>81</th>\n",
       "      <td>Republic of Ingushetia</td>\n",
       "      <td>16.50</td>\n",
       "    </tr>\n",
       "    <tr>\n",
       "      <th>82</th>\n",
       "      <td>Sevastopol</td>\n",
       "      <td>16.20</td>\n",
       "    </tr>\n",
       "    <tr>\n",
       "      <th>83</th>\n",
       "      <td>Republic of Crimea</td>\n",
       "      <td>12.80</td>\n",
       "    </tr>\n",
       "  </tbody>\n",
       "</table>\n",
       "<p>84 rows × 2 columns</p>\n",
       "</div>"
      ],
      "text/plain": [
       "                              region   vodka\n",
       "0                      Komi Republic  392.43\n",
       "1                     Kamchatka Krai  374.53\n",
       "2                             Moscow  361.42\n",
       "3                     Magadan Oblast  355.93\n",
       "4                    Sakhalin Oblast  345.41\n",
       "..                               ...     ...\n",
       "79                     Rostov Oblast  115.77\n",
       "80  Republic of North Ossetia-Alania   93.05\n",
       "81            Republic of Ingushetia   16.50\n",
       "82                        Sevastopol   16.20\n",
       "83                Republic of Crimea   12.80\n",
       "\n",
       "[84 rows x 2 columns]"
      ]
     },
     "execution_count": 23,
     "metadata": {},
     "output_type": "execute_result"
    }
   ],
   "source": [
    "data_vodka = data_full.groupby([\"region\"])[\"vodka\"].sum().sort_values(ascending=False).reset_index()\n",
    "data_vodka"
   ]
  },
  {
   "cell_type": "markdown",
   "id": "a4ff5fdb",
   "metadata": {},
   "source": [
    "#### The top 20 for vodka region"
   ]
  },
  {
   "cell_type": "code",
   "execution_count": 25,
   "id": "2f77df9f",
   "metadata": {},
   "outputs": [
    {
     "data": {
      "text/plain": [
       "0                             Komi Republic\n",
       "1                            Kamchatka Krai\n",
       "2                                    Moscow\n",
       "3                            Magadan Oblast\n",
       "4                           Sakhalin Oblast\n",
       "5                   Nenets Autonomous Okrug\n",
       "6                        Arkhangelsk Oblast\n",
       "7                            Vologda Oblast\n",
       "8                           Murmansk Oblast\n",
       "9                          Leningrad Oblast\n",
       "10                          Smolensk Oblast\n",
       "11                          Kemerovo Oblast\n",
       "12                          Khabarovsk Krai\n",
       "13                      Republic of Karelia\n",
       "14                              Tver Oblast\n",
       "15                            Moscow Oblast\n",
       "16           Yamalo-Nenets Autonomous Okrug\n",
       "17    Khanty–Mansi Autonomous Okrug – Yugra\n",
       "18                         Yaroslavl Oblast\n",
       "19                            Tyumen Oblast\n",
       "Name: region, dtype: object"
      ]
     },
     "execution_count": 25,
     "metadata": {},
     "output_type": "execute_result"
    }
   ],
   "source": [
    "data_vodka_region = data_vodka[\"region\"].head(20)\n",
    "data_vodka_region"
   ]
  },
  {
   "cell_type": "markdown",
   "id": "bea2d047",
   "metadata": {},
   "source": [
    "#### Fourth product: champagne"
   ]
  },
  {
   "cell_type": "code",
   "execution_count": 27,
   "id": "727af301",
   "metadata": {},
   "outputs": [
    {
     "data": {
      "image/png": "[encoded data removed]",
      "text/plain": [
       "<Figure size 360x360 with 1 Axes>"
      ]
     },
     "metadata": {
      "needs_background": "light"
     },
     "output_type": "display_data"
    },
    {
     "data": {
      "image/png": "[encoded data removed]",
      "text/plain": [
       "<Figure size 360x360 with 1 Axes>"
      ]
     },
     "metadata": {
      "needs_background": "light"
     },
     "output_type": "display_data"
    }
   ],
   "source": [
    "sns.displot(data_full[\"champagne\"])\n",
    "sns.displot(data_full[\"champagne\"],kind=\"ecdf\")\n",
    "plt.show()"
   ]
  },
  {
   "cell_type": "code",
   "execution_count": 28,
   "id": "608f6609",
   "metadata": {},
   "outputs": [
    {
     "data": {
      "text/html": [
       "<div>\n",
       "<style scoped>\n",
       "    .dataframe tbody tr th:only-of-type {\n",
       "        vertical-align: middle;\n",
       "    }\n",
       "\n",
       "    .dataframe tbody tr th {\n",
       "        vertical-align: top;\n",
       "    }\n",
       "\n",
       "    .dataframe thead th {\n",
       "        text-align: right;\n",
       "    }\n",
       "</style>\n",
       "<table border=\"1\" class=\"dataframe\">\n",
       "  <thead>\n",
       "    <tr style=\"text-align: right;\">\n",
       "      <th></th>\n",
       "      <th>region</th>\n",
       "      <th>champagne</th>\n",
       "    </tr>\n",
       "  </thead>\n",
       "  <tbody>\n",
       "    <tr>\n",
       "      <th>0</th>\n",
       "      <td>Moscow</td>\n",
       "      <td>83.34</td>\n",
       "    </tr>\n",
       "    <tr>\n",
       "      <th>1</th>\n",
       "      <td>Magadan Oblast</td>\n",
       "      <td>55.76</td>\n",
       "    </tr>\n",
       "    <tr>\n",
       "      <th>2</th>\n",
       "      <td>Kamchatka Krai</td>\n",
       "      <td>52.00</td>\n",
       "    </tr>\n",
       "    <tr>\n",
       "      <th>3</th>\n",
       "      <td>Saint Petersburg</td>\n",
       "      <td>46.91</td>\n",
       "    </tr>\n",
       "    <tr>\n",
       "      <th>4</th>\n",
       "      <td>Sakhalin Oblast</td>\n",
       "      <td>45.99</td>\n",
       "    </tr>\n",
       "    <tr>\n",
       "      <th>...</th>\n",
       "      <td>...</td>\n",
       "      <td>...</td>\n",
       "    </tr>\n",
       "    <tr>\n",
       "      <th>79</th>\n",
       "      <td>Tuva Republic</td>\n",
       "      <td>8.47</td>\n",
       "    </tr>\n",
       "    <tr>\n",
       "      <th>80</th>\n",
       "      <td>Karachay-Cherkess Republic</td>\n",
       "      <td>6.07</td>\n",
       "    </tr>\n",
       "    <tr>\n",
       "      <th>81</th>\n",
       "      <td>Sevastopol</td>\n",
       "      <td>5.90</td>\n",
       "    </tr>\n",
       "    <tr>\n",
       "      <th>82</th>\n",
       "      <td>Republic of Crimea</td>\n",
       "      <td>4.10</td>\n",
       "    </tr>\n",
       "    <tr>\n",
       "      <th>83</th>\n",
       "      <td>Republic of Ingushetia</td>\n",
       "      <td>3.70</td>\n",
       "    </tr>\n",
       "  </tbody>\n",
       "</table>\n",
       "<p>84 rows × 2 columns</p>\n",
       "</div>"
      ],
      "text/plain": [
       "                        region  champagne\n",
       "0                       Moscow      83.34\n",
       "1               Magadan Oblast      55.76\n",
       "2               Kamchatka Krai      52.00\n",
       "3             Saint Petersburg      46.91\n",
       "4              Sakhalin Oblast      45.99\n",
       "..                         ...        ...\n",
       "79               Tuva Republic       8.47\n",
       "80  Karachay-Cherkess Republic       6.07\n",
       "81                  Sevastopol       5.90\n",
       "82          Republic of Crimea       4.10\n",
       "83      Republic of Ingushetia       3.70\n",
       "\n",
       "[84 rows x 2 columns]"
      ]
     },
     "execution_count": 28,
     "metadata": {},
     "output_type": "execute_result"
    }
   ],
   "source": [
    "data_champagne = data_full.groupby([\"region\"])[\"champagne\"].sum().sort_values(ascending=False).reset_index()\n",
    "data_champagne"
   ]
  },
  {
   "cell_type": "markdown",
   "id": "0016f887",
   "metadata": {},
   "source": [
    "#### The top 20 for champagne region"
   ]
  },
  {
   "cell_type": "code",
   "execution_count": 30,
   "id": "b2e4a23d",
   "metadata": {},
   "outputs": [
    {
     "data": {
      "text/plain": [
       "0                        Moscow\n",
       "1                Magadan Oblast\n",
       "2                Kamchatka Krai\n",
       "3              Saint Petersburg\n",
       "4               Sakhalin Oblast\n",
       "5               Murmansk Oblast\n",
       "6              Leningrad Oblast\n",
       "7     Chukotka Autonomous Okrug\n",
       "8               Khabarovsk Krai\n",
       "9       Nenets Autonomous Okrug\n",
       "10             Volgograd Oblast\n",
       "11                Moscow Oblast\n",
       "12                Komi Republic\n",
       "13                  Tver Oblast\n",
       "14               Primorsky Krai\n",
       "15           Arkhangelsk Oblast\n",
       "16              Smolensk Oblast\n",
       "17           Kaliningrad Oblast\n",
       "18     Sakha (Yakutia) Republic\n",
       "19              Voronezh Oblast\n",
       "Name: region, dtype: object"
      ]
     },
     "execution_count": 30,
     "metadata": {},
     "output_type": "execute_result"
    }
   ],
   "source": [
    "data_champagne_region = data_champagne[\"region\"].head(20)\n",
    "data_champagne_region"
   ]
  },
  {
   "cell_type": "markdown",
   "id": "7aff5edb",
   "metadata": {},
   "source": [
    "#### Fifth product: brandy"
   ]
  },
  {
   "cell_type": "code",
   "execution_count": 32,
   "id": "dd70ba93",
   "metadata": {},
   "outputs": [
    {
     "data": {
      "image/png": "[encoded data removed]",
      "text/plain": [
       "<Figure size 360x360 with 1 Axes>"
      ]
     },
     "metadata": {
      "needs_background": "light"
     },
     "output_type": "display_data"
    },
    {
     "data": {
      "image/png": "[encoded data removed]",
      "text/plain": [
       "<Figure size 360x360 with 1 Axes>"
      ]
     },
     "metadata": {
      "needs_background": "light"
     },
     "output_type": "display_data"
    }
   ],
   "source": [
    "sns.displot(data_full[\"brandy\"])\n",
    "sns.displot(data_full[\"brandy\"],kind=\"ecdf\")\n",
    "plt.show()"
   ]
  },
  {
   "cell_type": "code",
   "execution_count": 33,
   "id": "f5c76f05",
   "metadata": {},
   "outputs": [
    {
     "data": {
      "text/html": [
       "<div>\n",
       "<style scoped>\n",
       "    .dataframe tbody tr th:only-of-type {\n",
       "        vertical-align: middle;\n",
       "    }\n",
       "\n",
       "    .dataframe tbody tr th {\n",
       "        vertical-align: top;\n",
       "    }\n",
       "\n",
       "    .dataframe thead th {\n",
       "        text-align: right;\n",
       "    }\n",
       "</style>\n",
       "<table border=\"1\" class=\"dataframe\">\n",
       "  <thead>\n",
       "    <tr style=\"text-align: right;\">\n",
       "      <th></th>\n",
       "      <th>region</th>\n",
       "      <th>brandy</th>\n",
       "    </tr>\n",
       "  </thead>\n",
       "  <tbody>\n",
       "    <tr>\n",
       "      <th>0</th>\n",
       "      <td>Moscow</td>\n",
       "      <td>23.90</td>\n",
       "    </tr>\n",
       "    <tr>\n",
       "      <th>1</th>\n",
       "      <td>Kamchatka Krai</td>\n",
       "      <td>23.66</td>\n",
       "    </tr>\n",
       "    <tr>\n",
       "      <th>2</th>\n",
       "      <td>Kaliningrad Oblast</td>\n",
       "      <td>23.53</td>\n",
       "    </tr>\n",
       "    <tr>\n",
       "      <th>3</th>\n",
       "      <td>Murmansk Oblast</td>\n",
       "      <td>21.42</td>\n",
       "    </tr>\n",
       "    <tr>\n",
       "      <th>4</th>\n",
       "      <td>Saint Petersburg</td>\n",
       "      <td>21.23</td>\n",
       "    </tr>\n",
       "    <tr>\n",
       "      <th>...</th>\n",
       "      <td>...</td>\n",
       "      <td>...</td>\n",
       "    </tr>\n",
       "    <tr>\n",
       "      <th>79</th>\n",
       "      <td>Republic of Ingushetia</td>\n",
       "      <td>3.60</td>\n",
       "    </tr>\n",
       "    <tr>\n",
       "      <th>80</th>\n",
       "      <td>Sevastopol</td>\n",
       "      <td>3.30</td>\n",
       "    </tr>\n",
       "    <tr>\n",
       "      <th>81</th>\n",
       "      <td>Republic of Buryatia</td>\n",
       "      <td>3.27</td>\n",
       "    </tr>\n",
       "    <tr>\n",
       "      <th>82</th>\n",
       "      <td>Republic of Crimea</td>\n",
       "      <td>2.70</td>\n",
       "    </tr>\n",
       "    <tr>\n",
       "      <th>83</th>\n",
       "      <td>Republic of North Ossetia-Alania</td>\n",
       "      <td>2.66</td>\n",
       "    </tr>\n",
       "  </tbody>\n",
       "</table>\n",
       "<p>84 rows × 2 columns</p>\n",
       "</div>"
      ],
      "text/plain": [
       "                              region  brandy\n",
       "0                             Moscow   23.90\n",
       "1                     Kamchatka Krai   23.66\n",
       "2                 Kaliningrad Oblast   23.53\n",
       "3                    Murmansk Oblast   21.42\n",
       "4                   Saint Petersburg   21.23\n",
       "..                               ...     ...\n",
       "79            Republic of Ingushetia    3.60\n",
       "80                        Sevastopol    3.30\n",
       "81              Republic of Buryatia    3.27\n",
       "82                Republic of Crimea    2.70\n",
       "83  Republic of North Ossetia-Alania    2.66\n",
       "\n",
       "[84 rows x 2 columns]"
      ]
     },
     "execution_count": 33,
     "metadata": {},
     "output_type": "execute_result"
    }
   ],
   "source": [
    "data_brandy = data_full.groupby([\"region\"])[\"brandy\"].sum().sort_values(ascending=False).reset_index()\n",
    "data_brandy"
   ]
  },
  {
   "cell_type": "markdown",
   "id": "399d0077",
   "metadata": {},
   "source": [
    "#### The top 20 for brandy region"
   ]
  },
  {
   "cell_type": "code",
   "execution_count": 35,
   "id": "69e25baf",
   "metadata": {},
   "outputs": [
    {
     "data": {
      "text/plain": [
       "0                                    Moscow\n",
       "1                            Kamchatka Krai\n",
       "2                        Kaliningrad Oblast\n",
       "3                           Murmansk Oblast\n",
       "4                          Saint Petersburg\n",
       "5                          Leningrad Oblast\n",
       "6                             Moscow Oblast\n",
       "7                            Magadan Oblast\n",
       "8            Yamalo-Nenets Autonomous Okrug\n",
       "9                           Sakhalin Oblast\n",
       "10                  Nenets Autonomous Okrug\n",
       "11                Chukotka Autonomous Okrug\n",
       "12    Khanty–Mansi Autonomous Okrug – Yugra\n",
       "13                       Arkhangelsk Oblast\n",
       "14                            Tyumen Oblast\n",
       "15                            Komi Republic\n",
       "16                      Republic of Karelia\n",
       "17                          Khabarovsk Krai\n",
       "18                        Sverdlovsk Oblast\n",
       "19                    Republic of Khakassia\n",
       "Name: region, dtype: object"
      ]
     },
     "execution_count": 35,
     "metadata": {},
     "output_type": "execute_result"
    }
   ],
   "source": [
    "data_brandy_region = data_brandy[\"region\"].head(20)\n",
    "data_brandy_region"
   ]
  },
  {
   "cell_type": "markdown",
   "id": "c9e9f80a",
   "metadata": {},
   "source": [
    "#### Putting all regions in one table"
   ]
  },
  {
   "cell_type": "code",
   "execution_count": 37,
   "id": "4daf524e",
   "metadata": {},
   "outputs": [
    {
     "data": {
      "text/html": [
       "<div>\n",
       "<style scoped>\n",
       "    .dataframe tbody tr th:only-of-type {\n",
       "        vertical-align: middle;\n",
       "    }\n",
       "\n",
       "    .dataframe tbody tr th {\n",
       "        vertical-align: top;\n",
       "    }\n",
       "\n",
       "    .dataframe thead th {\n",
       "        text-align: right;\n",
       "    }\n",
       "</style>\n",
       "<table border=\"1\" class=\"dataframe\">\n",
       "  <thead>\n",
       "    <tr style=\"text-align: right;\">\n",
       "      <th></th>\n",
       "      <th>brandy</th>\n",
       "      <th>champagne</th>\n",
       "      <th>vodka</th>\n",
       "      <th>beer</th>\n",
       "      <th>wine</th>\n",
       "    </tr>\n",
       "  </thead>\n",
       "  <tbody>\n",
       "    <tr>\n",
       "      <th>0</th>\n",
       "      <td>Moscow</td>\n",
       "      <td>Moscow</td>\n",
       "      <td>Komi Republic</td>\n",
       "      <td>Saint Petersburg</td>\n",
       "      <td>Republic of Karelia</td>\n",
       "    </tr>\n",
       "    <tr>\n",
       "      <th>1</th>\n",
       "      <td>Kamchatka Krai</td>\n",
       "      <td>Magadan Oblast</td>\n",
       "      <td>Kamchatka Krai</td>\n",
       "      <td>Moscow</td>\n",
       "      <td>Pskov Oblast</td>\n",
       "    </tr>\n",
       "    <tr>\n",
       "      <th>2</th>\n",
       "      <td>Kaliningrad Oblast</td>\n",
       "      <td>Kamchatka Krai</td>\n",
       "      <td>Moscow</td>\n",
       "      <td>Yamalo-Nenets Autonomous Okrug</td>\n",
       "      <td>Vologda Oblast</td>\n",
       "    </tr>\n",
       "    <tr>\n",
       "      <th>3</th>\n",
       "      <td>Murmansk Oblast</td>\n",
       "      <td>Saint Petersburg</td>\n",
       "      <td>Magadan Oblast</td>\n",
       "      <td>Tyumen Oblast</td>\n",
       "      <td>Komi Republic</td>\n",
       "    </tr>\n",
       "    <tr>\n",
       "      <th>4</th>\n",
       "      <td>Saint Petersburg</td>\n",
       "      <td>Sakhalin Oblast</td>\n",
       "      <td>Sakhalin Oblast</td>\n",
       "      <td>Omsk Oblast</td>\n",
       "      <td>Novgorod Oblast</td>\n",
       "    </tr>\n",
       "    <tr>\n",
       "      <th>5</th>\n",
       "      <td>Leningrad Oblast</td>\n",
       "      <td>Murmansk Oblast</td>\n",
       "      <td>Nenets Autonomous Okrug</td>\n",
       "      <td>Chelyabinsk Oblast</td>\n",
       "      <td>Nenets Autonomous Okrug</td>\n",
       "    </tr>\n",
       "    <tr>\n",
       "      <th>6</th>\n",
       "      <td>Moscow Oblast</td>\n",
       "      <td>Leningrad Oblast</td>\n",
       "      <td>Arkhangelsk Oblast</td>\n",
       "      <td>Khanty–Mansi Autonomous Okrug – Yugra</td>\n",
       "      <td>Arkhangelsk Oblast</td>\n",
       "    </tr>\n",
       "    <tr>\n",
       "      <th>7</th>\n",
       "      <td>Magadan Oblast</td>\n",
       "      <td>Chukotka Autonomous Okrug</td>\n",
       "      <td>Vologda Oblast</td>\n",
       "      <td>Ivanovo Oblast</td>\n",
       "      <td>Murmansk Oblast</td>\n",
       "    </tr>\n",
       "    <tr>\n",
       "      <th>8</th>\n",
       "      <td>Yamalo-Nenets Autonomous Okrug</td>\n",
       "      <td>Khabarovsk Krai</td>\n",
       "      <td>Murmansk Oblast</td>\n",
       "      <td>Sverdlovsk Oblast</td>\n",
       "      <td>Leningrad Oblast</td>\n",
       "    </tr>\n",
       "    <tr>\n",
       "      <th>9</th>\n",
       "      <td>Sakhalin Oblast</td>\n",
       "      <td>Nenets Autonomous Okrug</td>\n",
       "      <td>Leningrad Oblast</td>\n",
       "      <td>Khabarovsk Krai</td>\n",
       "      <td>Kirov Oblast</td>\n",
       "    </tr>\n",
       "    <tr>\n",
       "      <th>10</th>\n",
       "      <td>Nenets Autonomous Okrug</td>\n",
       "      <td>Volgograd Oblast</td>\n",
       "      <td>Smolensk Oblast</td>\n",
       "      <td>Zabaykalsky Krai</td>\n",
       "      <td>Smolensk Oblast</td>\n",
       "    </tr>\n",
       "    <tr>\n",
       "      <th>11</th>\n",
       "      <td>Chukotka Autonomous Okrug</td>\n",
       "      <td>Moscow Oblast</td>\n",
       "      <td>Kemerovo Oblast</td>\n",
       "      <td>Vologda Oblast</td>\n",
       "      <td>Kaliningrad Oblast</td>\n",
       "    </tr>\n",
       "    <tr>\n",
       "      <th>12</th>\n",
       "      <td>Khanty–Mansi Autonomous Okrug – Yugra</td>\n",
       "      <td>Komi Republic</td>\n",
       "      <td>Khabarovsk Krai</td>\n",
       "      <td>Komi Republic</td>\n",
       "      <td>Sverdlovsk Oblast</td>\n",
       "    </tr>\n",
       "    <tr>\n",
       "      <th>13</th>\n",
       "      <td>Arkhangelsk Oblast</td>\n",
       "      <td>Tver Oblast</td>\n",
       "      <td>Republic of Karelia</td>\n",
       "      <td>Republic of Khakassia</td>\n",
       "      <td>Moscow</td>\n",
       "    </tr>\n",
       "    <tr>\n",
       "      <th>14</th>\n",
       "      <td>Tyumen Oblast</td>\n",
       "      <td>Primorsky Krai</td>\n",
       "      <td>Tver Oblast</td>\n",
       "      <td>Novosibirsk Oblast</td>\n",
       "      <td>Kamchatka Krai</td>\n",
       "    </tr>\n",
       "    <tr>\n",
       "      <th>15</th>\n",
       "      <td>Komi Republic</td>\n",
       "      <td>Arkhangelsk Oblast</td>\n",
       "      <td>Moscow Oblast</td>\n",
       "      <td>Krasnoyarsk Krai</td>\n",
       "      <td>Ivanovo Oblast</td>\n",
       "    </tr>\n",
       "    <tr>\n",
       "      <th>16</th>\n",
       "      <td>Republic of Karelia</td>\n",
       "      <td>Smolensk Oblast</td>\n",
       "      <td>Yamalo-Nenets Autonomous Okrug</td>\n",
       "      <td>Perm Krai</td>\n",
       "      <td>Krasnodar Krai</td>\n",
       "    </tr>\n",
       "    <tr>\n",
       "      <th>17</th>\n",
       "      <td>Khabarovsk Krai</td>\n",
       "      <td>Kaliningrad Oblast</td>\n",
       "      <td>Khanty–Mansi Autonomous Okrug – Yugra</td>\n",
       "      <td>Yaroslavl Oblast</td>\n",
       "      <td>Yaroslavl Oblast</td>\n",
       "    </tr>\n",
       "    <tr>\n",
       "      <th>18</th>\n",
       "      <td>Sverdlovsk Oblast</td>\n",
       "      <td>Sakha (Yakutia) Republic</td>\n",
       "      <td>Yaroslavl Oblast</td>\n",
       "      <td>Smolensk Oblast</td>\n",
       "      <td>Tver Oblast</td>\n",
       "    </tr>\n",
       "    <tr>\n",
       "      <th>19</th>\n",
       "      <td>Republic of Khakassia</td>\n",
       "      <td>Voronezh Oblast</td>\n",
       "      <td>Tyumen Oblast</td>\n",
       "      <td>Moscow Oblast</td>\n",
       "      <td>Saint Petersburg</td>\n",
       "    </tr>\n",
       "  </tbody>\n",
       "</table>\n",
       "</div>"
      ],
      "text/plain": [
       "                                   brandy                  champagne  \\\n",
       "0                                  Moscow                     Moscow   \n",
       "1                          Kamchatka Krai             Magadan Oblast   \n",
       "2                      Kaliningrad Oblast             Kamchatka Krai   \n",
       "3                         Murmansk Oblast           Saint Petersburg   \n",
       "4                        Saint Petersburg            Sakhalin Oblast   \n",
       "5                        Leningrad Oblast            Murmansk Oblast   \n",
       "6                           Moscow Oblast           Leningrad Oblast   \n",
       "7                          Magadan Oblast  Chukotka Autonomous Okrug   \n",
       "8          Yamalo-Nenets Autonomous Okrug            Khabarovsk Krai   \n",
       "9                         Sakhalin Oblast    Nenets Autonomous Okrug   \n",
       "10                Nenets Autonomous Okrug           Volgograd Oblast   \n",
       "11              Chukotka Autonomous Okrug              Moscow Oblast   \n",
       "12  Khanty–Mansi Autonomous Okrug – Yugra              Komi Republic   \n",
       "13                     Arkhangelsk Oblast                Tver Oblast   \n",
       "14                          Tyumen Oblast             Primorsky Krai   \n",
       "15                          Komi Republic         Arkhangelsk Oblast   \n",
       "16                    Republic of Karelia            Smolensk Oblast   \n",
       "17                        Khabarovsk Krai         Kaliningrad Oblast   \n",
       "18                      Sverdlovsk Oblast   Sakha (Yakutia) Republic   \n",
       "19                  Republic of Khakassia            Voronezh Oblast   \n",
       "\n",
       "                                    vodka  \\\n",
       "0                           Komi Republic   \n",
       "1                          Kamchatka Krai   \n",
       "2                                  Moscow   \n",
       "3                          Magadan Oblast   \n",
       "4                         Sakhalin Oblast   \n",
       "5                 Nenets Autonomous Okrug   \n",
       "6                      Arkhangelsk Oblast   \n",
       "7                          Vologda Oblast   \n",
       "8                         Murmansk Oblast   \n",
       "9                        Leningrad Oblast   \n",
       "10                        Smolensk Oblast   \n",
       "11                        Kemerovo Oblast   \n",
       "12                        Khabarovsk Krai   \n",
       "13                    Republic of Karelia   \n",
       "14                            Tver Oblast   \n",
       "15                          Moscow Oblast   \n",
       "16         Yamalo-Nenets Autonomous Okrug   \n",
       "17  Khanty–Mansi Autonomous Okrug – Yugra   \n",
       "18                       Yaroslavl Oblast   \n",
       "19                          Tyumen Oblast   \n",
       "\n",
       "                                     beer                     wine  \n",
       "0                        Saint Petersburg      Republic of Karelia  \n",
       "1                                  Moscow             Pskov Oblast  \n",
       "2          Yamalo-Nenets Autonomous Okrug           Vologda Oblast  \n",
       "3                           Tyumen Oblast            Komi Republic  \n",
       "4                             Omsk Oblast          Novgorod Oblast  \n",
       "5                      Chelyabinsk Oblast  Nenets Autonomous Okrug  \n",
       "6   Khanty–Mansi Autonomous Okrug – Yugra       Arkhangelsk Oblast  \n",
       "7                          Ivanovo Oblast          Murmansk Oblast  \n",
       "8                       Sverdlovsk Oblast         Leningrad Oblast  \n",
       "9                         Khabarovsk Krai             Kirov Oblast  \n",
       "10                       Zabaykalsky Krai          Smolensk Oblast  \n",
       "11                         Vologda Oblast       Kaliningrad Oblast  \n",
       "12                          Komi Republic        Sverdlovsk Oblast  \n",
       "13                  Republic of Khakassia                   Moscow  \n",
       "14                     Novosibirsk Oblast           Kamchatka Krai  \n",
       "15                       Krasnoyarsk Krai           Ivanovo Oblast  \n",
       "16                              Perm Krai           Krasnodar Krai  \n",
       "17                       Yaroslavl Oblast         Yaroslavl Oblast  \n",
       "18                        Smolensk Oblast              Tver Oblast  \n",
       "19                          Moscow Oblast         Saint Petersburg  "
      ]
     },
     "execution_count": 37,
     "metadata": {},
     "output_type": "execute_result"
    }
   ],
   "source": [
    "data_all = {\"brandy\": data_brandy_region, \"champagne\": data_champagne_region, \"vodka\": data_vodka_region, \"beer\": data_beer_region, \"wine\": data_wine_region}\n",
    "data_call = pd.DataFrame(data_all)\n",
    "data_call"
   ]
  },
  {
   "cell_type": "markdown",
   "id": "2ba8f4ca",
   "metadata": {},
   "source": [
    "#### Finding the comme regions"
   ]
  },
  {
   "cell_type": "code",
   "execution_count": 41,
   "id": "fb2685f4",
   "metadata": {},
   "outputs": [
    {
     "data": {
      "text/plain": [
       "Moscow                                   5\n",
       "Komi Republic                            5\n",
       "Leningrad Oblast                         4\n",
       "Saint Petersburg                         4\n",
       "Kamchatka Krai                           4\n",
       "Smolensk Oblast                          4\n",
       "Khabarovsk Krai                          4\n",
       "Murmansk Oblast                          4\n",
       "Arkhangelsk Oblast                       4\n",
       "Moscow Oblast                            4\n",
       "Nenets Autonomous Okrug                  4\n",
       "Yaroslavl Oblast                         3\n",
       "Tver Oblast                              3\n",
       "Sverdlovsk Oblast                        3\n",
       "Khanty–Mansi Autonomous Okrug – Yugra    3\n",
       "Yamalo-Nenets Autonomous Okrug           3\n",
       "Kaliningrad Oblast                       3\n",
       "Magadan Oblast                           3\n",
       "Sakhalin Oblast                          3\n",
       "Tyumen Oblast                            3\n",
       "Vologda Oblast                           3\n",
       "Republic of Karelia                      3\n",
       "Republic of Khakassia                    2\n",
       "Ivanovo Oblast                           2\n",
       "Chukotka Autonomous Okrug                2\n",
       "Primorsky Krai                           1\n",
       "Krasnodar Krai                           1\n",
       "Perm Krai                                1\n",
       "Krasnoyarsk Krai                         1\n",
       "Novosibirsk Oblast                       1\n",
       "Sakha (Yakutia) Republic                 1\n",
       "Novgorod Oblast                          1\n",
       "Pskov Oblast                             1\n",
       "Kemerovo Oblast                          1\n",
       "Zabaykalsky Krai                         1\n",
       "Omsk Oblast                              1\n",
       "Volgograd Oblast                         1\n",
       "Kirov Oblast                             1\n",
       "Chelyabinsk Oblast                       1\n",
       "Voronezh Oblast                          1\n",
       "dtype: int64"
      ]
     },
     "execution_count": 41,
     "metadata": {},
     "output_type": "execute_result"
    }
   ],
   "source": [
    "data_top_region = data_call.stack().value_counts()\n",
    "data_top_region"
   ]
  },
  {
   "cell_type": "markdown",
   "id": "1cab1795",
   "metadata": {},
   "source": [
    "### Chart region"
   ]
  },
  {
   "cell_type": "code",
   "execution_count": 43,
   "id": "0607ec94",
   "metadata": {},
   "outputs": [
    {
     "data": {
      "image/png": "[encoded data removed]",
      "text/plain": [
       "<Figure size 1080x1080 with 1 Axes>"
      ]
     },
     "metadata": {
      "needs_background": "light"
     },
     "output_type": "display_data"
    }
   ],
   "source": [
    "data_top_region.plot(kind=\"barh\", figsize=(15, 15))\n",
    "plt.ylabel(\"Regions\")\n",
    "plt.xlabel(\"Counts\")\n",
    "plt.title(\"Top_Region\")\n",
    "plt.show()"
   ]
  },
  {
   "cell_type": "markdown",
   "id": "f11f6fb4",
   "metadata": {},
   "source": [
    "#### Top 10 region"
   ]
  },
  {
   "cell_type": "code",
   "execution_count": 45,
   "id": "65c9e91a",
   "metadata": {},
   "outputs": [
    {
     "name": "stdout",
     "output_type": "stream",
     "text": [
      "Moscow                     5\n",
      "Komi Republic              5\n",
      "Leningrad Oblast           4\n",
      "Saint Petersburg           4\n",
      "Kamchatka Krai             4\n",
      "Smolensk Oblast            4\n",
      "Khabarovsk Krai            4\n",
      "Murmansk Oblast            4\n",
      "Arkhangelsk Oblast         4\n",
      "Moscow Oblast              4\n",
      "Nenets Autonomous Okrug    4\n",
      "dtype: int64 \n",
      " I choose 11 not 10 because the regin(Saint Petersburg) is already used before\n"
     ]
    }
   ],
   "source": [
    "print(data_top_region.head(11),\"\\n\",\"I choose 11 not 10 because the regin(Saint Petersburg) is already used before\")"
   ]
  },
  {
   "cell_type": "markdown",
   "id": "50d726cf",
   "metadata": {},
   "source": [
    "# Conclusion:"
   ]
  },
  {
   "cell_type": "markdown",
   "id": "324dfe6d",
   "metadata": {},
   "source": [
    "#### The Best regions we can promotion our products and it approximately will get the same result of Saint Petersburg promotion are:\n",
    "Moscow\n",
    "Komi Republic\n",
    "Nenets Autonomous Okrug\n",
    "Leningrad Oblast\n",
    "Smolensk Oblast\n",
    "Kamchatka Krai\n",
    "Khabarovsk Krai\n",
    "Arkhangelsk Oblast\n",
    "Moscow Oblast\n",
    "Murmansk Oblast"
   ]
  }
 ],
 "metadata": {
  "kernelspec": {
   "display_name": "Python 3 (ipykernel)",
   "language": "python",
   "name": "python3"
  },
  "language_info": {
   "codemirror_mode": {
    "name": "ipython",
    "version": 3
   },
   "file_extension": ".py",
   "mimetype": "text/x-python",
   "name": "python",
   "nbconvert_exporter": "python",
   "pygments_lexer": "ipython3",
   "version": "3.8.12"
  }
 },
 "nbformat": 4,
 "nbformat_minor": 5
}
